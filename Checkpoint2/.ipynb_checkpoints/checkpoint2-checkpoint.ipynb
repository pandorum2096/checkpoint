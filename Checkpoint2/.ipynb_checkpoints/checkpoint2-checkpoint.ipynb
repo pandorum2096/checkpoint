{
 "cells": [
  {
   "cell_type": "code",
   "execution_count": 1,
   "id": "3b2b5531",
   "metadata": {},
   "outputs": [
    {
     "name": "stdout",
     "output_type": "stream",
     "text": [
      "[2002, 2009, 2016, 2023, 2037, 2044, 2051, 2058, 2072, 2079, 2086, 2093, 2107, 2114, 2121, 2128, 2142, 2149, 2156, 2163, 2177, 2184, 2191, 2198, 2212, 2219, 2226, 2233, 2247, 2254, 2261, 2268, 2282, 2289, 2296, 2303, 2317, 2324, 2331, 2338, 2352, 2359, 2366, 2373, 2387, 2394, 2401, 2408, 2422, 2429, 2436, 2443, 2457, 2464, 2471, 2478, 2492, 2499, 2506, 2513, 2527, 2534, 2541, 2548, 2562, 2569, 2576, 2583, 2597, 2604, 2611, 2618, 2632, 2639, 2646, 2653, 2667, 2674, 2681, 2688, 2702, 2709, 2716, 2723, 2737, 2744, 2751, 2758, 2772, 2779, 2786, 2793, 2807, 2814, 2821, 2828, 2842, 2849, 2856, 2863, 2877, 2884, 2891, 2898, 2912, 2919, 2926, 2933, 2947, 2954, 2961, 2968, 2982, 2989, 2996, 3003, 3017, 3024, 3031, 3038, 3052, 3059, 3066, 3073, 3087, 3094, 3101, 3108, 3122, 3129, 3136, 3143, 3157, 3164, 3171, 3178, 3192, 3199]\n"
     ]
    }
   ],
   "source": [
    "# Question 1\n",
    "# Écrivez un programme qui trouvera tous les nombres divisibles par 7 mais non multiples de 5, entre 2000 et 3200 (les deux inclus). Les nombres obtenus doivent être imprimés dans une liste.\n",
    "# Conseils : pensez à utiliser la méthode range(#begin, #end).\n",
    "\n",
    "def exo1():\n",
    "    #declaration\n",
    "    first = 2000\n",
    "    end = 3201\n",
    "    liste = []\n",
    "    #boucle de calcul\n",
    "    for i in range(first, end):\n",
    "        if i % 7 == 0 and i % 5 != 0:\n",
    "            liste.append(i)\n",
    "    #affichage du resultat\n",
    "    print(liste)\n",
    "\n",
    "\n",
    "exo1()"
   ]
  },
  {
   "cell_type": "code",
   "execution_count": 2,
   "id": "6265adfa",
   "metadata": {},
   "outputs": [
    {
     "name": "stdout",
     "output_type": "stream",
     "text": [
      "Entrez un nombre : 5\n",
      "5 ! =  120\n"
     ]
    }
   ],
   "source": [
    "# Question 2 \n",
    "#  Écrire un programme capable de calculer la factorielle d'un nombre donné. \n",
    "# (la factorielle de n est le produit de tous les entiers positifs inférieurs ou égaux à n). \n",
    "# par exemple factoriel(5)= 5 x 4 x 3 x 2 x 1 le résultat est 120. \n",
    "# (c'est-à-dire factoriel (0)=1)\n",
    "\n",
    "import math\n",
    "\n",
    "\n",
    "def exo2():\n",
    "    # declaration\n",
    "    nbr = int(input('Entrez un nombre : '))\n",
    "    var = math.factorial(nbr)\n",
    "    print(var)\n",
    "\n",
    "\n",
    "def exo2_method():\n",
    "    # declaration\n",
    "    nbr = int(input('Entrez un nombre : '))\n",
    "    facto = 1\n",
    "    for i in range(1, nbr + 1):\n",
    "        facto = facto * i\n",
    "    print(nbr, '! = ', facto)\n",
    "\n",
    "\n",
    "#exo2()\n",
    "exo2_method()"
   ]
  },
  {
   "cell_type": "code",
   "execution_count": 3,
   "id": "9ec099b0",
   "metadata": {},
   "outputs": [
    {
     "name": "stdout",
     "output_type": "stream",
     "text": [
      "Entrez un nombre : 5\n",
      "dictionnaire {1: 1, 2: 4, 3: 9, 4: 16, 5: 25}\n"
     ]
    }
   ],
   "source": [
    "\n",
    "# Question 3 \n",
    "# Avec un nombre entier n donné, écrivez un programme pour générer un dictionnaire qui contient (i, i*i) \n",
    "# tel qu'il soit un nombre entier compris entre 1 et n (tous deux inclus). puis le programme devrait imprimer le dictionnaire. \n",
    "# Supposons que l'entrée suivante soit fournie au programme : 8 Ensuite, \n",
    "# la sortie doit être : {1 : 1, 2 : 4, 3 : 9, 4 : 16, 5 : 25, 6 : 36, 7 : 49, 8 : 64 }\n",
    "\n",
    "def dict():\n",
    "    # declaration\n",
    "    nbr = int(input('Entrez un nombre : '))\n",
    "    dict = {}\n",
    "    for i in range(1, nbr + 1):\n",
    "        for j in range(1, nbr + 1):\n",
    "            j = i * i\n",
    "            dict[i] = j\n",
    "    # affichage du resultat\n",
    "    print(\"dictionnaire\", dict)\n",
    "\n",
    "\n",
    "dict()\n",
    "\n",
    "\n"
   ]
  },
  {
   "cell_type": "code",
   "execution_count": 4,
   "id": "c08ef48c",
   "metadata": {},
   "outputs": [
    {
     "name": "stdout",
     "output_type": "stream",
     "text": [
      "=>la chaine:  ['t', 'o', 'u', 'r', 'e']\n",
      "=>longueur:  5\n",
      "=>La chaîne de caractère avec element supprime: ['o', 'u', 'r', 'e']\n",
      "=>resultat :  oure\n"
     ]
    }
   ],
   "source": [
    "# Question 4 \n",
    "# Étant donné une chaîne non vide et un int n, renvoie une nouvelle chaîne où le caractère à l'index n a été supprimé. \n",
    "#La valeur de n sera un index valide d'un caractère dans la chaîne d'origine \n",
    "#(c'est-à-dire que n sera compris entre 0..len(str)-1 inclus). \n",
    "# missing_char('kitten', 1) → 'ktten' par exemple ici on supprime \"i\" qui se trouve dans l'index 1\n",
    "# missing_char('kitten', 0) → 'itten' ici on supprime \"k\" qui est dans l'index 0\n",
    "# missing_char('kitten', 4) → 'kittn' ici on supprime \"e\" qui est dans l'index 4\n",
    "\n",
    "def missing_char(c, i):\n",
    "    if i >= len(c):\n",
    "        print(\"=>desole, l'index entre est superieur a la longueur du mot\")\n",
    "        # transformation en liste\n",
    "        liste = list(c)\n",
    "        # affichage de la liste\n",
    "        print(\"=>la chaine: \", liste)\n",
    "        # longueur\n",
    "        print(\"=>longueur: 0 a\", len(c)-1)\n",
    "    else:\n",
    "        # declaration\n",
    "        resultat = \"\"\n",
    "        # transformation en liste\n",
    "        liste = list(c)\n",
    "        # affichage de la liste\n",
    "        print(\"=>la chaine: \", liste)\n",
    "        # longueur\n",
    "        print(\"=>longueur: \",len(c))\n",
    "        # suppression de l'element de la liste\n",
    "        liste.pop(i)\n",
    "        # affichage de la liste avec element supprime\n",
    "        print(\"=>La chaîne de caractère avec element supprime: {}\".format(liste))\n",
    "        # boucle afin de transformer la liste en chaine afin de l'afficher de facon correcte\n",
    "        for j in range(len(liste)):\n",
    "            resultat = resultat + liste[j]\n",
    "\n",
    "        print(\"=>resultat : \",resultat)\n",
    "\n",
    "\n",
    "missing_char('toure', 0)\n"
   ]
  },
  {
   "cell_type": "code",
   "execution_count": 5,
   "id": "c95e95b2",
   "metadata": {},
   "outputs": [
    {
     "name": "stdout",
     "output_type": "stream",
     "text": [
      "[[0 1]\n",
      " [2 3]\n",
      " [4 5]]\n",
      "[[0, 1], [2, 3], [4, 5]]\n"
     ]
    }
   ],
   "source": [
    "# Question 5 \n",
    "# Écrivez un programme NumPy pour convertir un tableau NumPy en une structure de liste Python.\n",
    "# Production attendue: \n",
    "# Éléments du tableau d'origine : [[0 1] [2 3] [4 5]] \n",
    "# Tableau à liste : [[0, 1], [2, 3], [4, 5]] \n",
    "\n",
    "import numpy as np\n",
    "\n",
    "\n",
    "def convertArrayToList():\n",
    "    # declaration\n",
    "    tableaux = np.array([[0, 1], [2, 3], [4, 5]])\n",
    "    # afficher tableaux\n",
    "    print(tableaux)\n",
    "    # conversion en list\n",
    "    print(tableaux.tolist())\n",
    "\n",
    "\n",
    "convertArrayToList()\n"
   ]
  },
  {
   "cell_type": "code",
   "execution_count": 6,
   "id": "f043f89a",
   "metadata": {},
   "outputs": [
    {
     "name": "stdout",
     "output_type": "stream",
     "text": [
      "tableaux 1: [0 1 2]\n",
      "tableaux 2: [2 1 0]\n",
      "la matrice de covariance des deux tableaux donnés: \n",
      " [[ 1. -1.]\n",
      " [-1.  1.]]\n"
     ]
    }
   ],
   "source": [
    "# Question 6\n",
    "# Écrivez un programme NumPy pour calculer la matrice de covariance de deux tableaux donnés. \n",
    "# Tableau d'origine1 : [0 1 2] \n",
    "# Tableau d'origine2 : [2 1 0] \n",
    "# Matrice de covariance desdits tableaux : [[ 1. -1.] [-1. 1.]]\n",
    "\n",
    "import numpy as np\n",
    "\n",
    "\n",
    "def convariance():\n",
    "    # declaration\n",
    "    tableaux = np.array([0, 1, 2])\n",
    "    tableaux2 = np.array([2, 1, 0])\n",
    "    # affichage\n",
    "    print(\"tableaux 1:\", tableaux)\n",
    "    print(\"tableaux 2:\", tableaux2)\n",
    "    # affichage de la covariance\n",
    "    print(\"la matrice de covariance des deux tableaux donnés: \\n\", np.cov(tableaux, tableaux2))\n",
    "\n",
    "\n",
    "convariance()\n"
   ]
  },
  {
   "cell_type": "code",
   "execution_count": 7,
   "id": "0484a325",
   "metadata": {},
   "outputs": [
    {
     "name": "stdout",
     "output_type": "stream",
     "text": [
      "entrez le premier nombre: 4\n",
      "entrez le deuxieme nombre: 5\n",
      "entrez le troisieme nombre: 6\n",
      "3 , 4 , 4\n"
     ]
    }
   ],
   "source": [
    "# Question 7\n",
    "# Question : Écrivez un programme qui calcule et imprime la valeur \n",
    "# selon la formule donnée : Q = Racine carrée de [(2 * C * D)/H] \n",
    "# Voici les valeurs fixes de C et H : C est 50. H est 30. \n",
    "# D est la variable dont les valeurs doivent être entrées dans votre programme dans une séquence séparée par des virgules.\n",
    "#(cela signifie que D contient plus que la valeur)\n",
    "# Exemple Supposons que la séquence d'entrées séparées par des virgules suivante est donnée au programme : \n",
    "# 100,150,180 La sortie du programme doit être : 18,22,24 \n",
    "# Pour expliquer cela plus en détail, nous obtiendrons un résultat pour chaque valeur de D : \n",
    "# Q1= Racine carrée de [(2 * C * 100)/H] =18, Q2= Racine carrée de [(2 * C * 150)/H ] = 22 \n",
    "# et Q3 = Racine carrée de [(2 * C * 180)/H] = 24\n",
    "# Conseils : Si la sortie reçue est sous forme décimale, elle doit être arrondie à sa valeur la plus proche \n",
    "# (par exemple, si la sortie reçue est 26,0, elle doit être imprimée sous la forme 26) \n",
    "# En cas de données d'entrée fournies à la question, il doit être supposé être une entrée de console. \n",
    "\n",
    "import numpy as np\n",
    "\n",
    "def racine():\n",
    "    # declaration\n",
    "    a = int(input(\"entrez le premier nombre: \"))\n",
    "    b = int(input(\"entrez le deuxieme nombre: \"))\n",
    "    c = int(input(\"entrez le troisieme nombre: \"))\n",
    "    # calcul\n",
    "    Q1 = np.sqrt((2 * a * 50) / 30)\n",
    "    Q2 = np.sqrt((2 * b * 50) / 30)\n",
    "    Q3 = np.sqrt((2 * c * 50) / 30)\n",
    "    # arrondie\n",
    "    Q1 = int(Q1)\n",
    "    Q2 = int(Q2)\n",
    "    Q3 = int(Q3)\n",
    "    # afficher\n",
    "    print(Q1, \",\", Q2, \",\", Q3)\n",
    "\n",
    "\n",
    "racine()"
   ]
  },
  {
   "cell_type": "code",
   "execution_count": null,
   "id": "683643c4",
   "metadata": {},
   "outputs": [],
   "source": []
  }
 ],
 "metadata": {
  "kernelspec": {
   "display_name": "Python 3 (ipykernel)",
   "language": "python",
   "name": "python3"
  },
  "language_info": {
   "codemirror_mode": {
    "name": "ipython",
    "version": 3
   },
   "file_extension": ".py",
   "mimetype": "text/x-python",
   "name": "python",
   "nbconvert_exporter": "python",
   "pygments_lexer": "ipython3",
   "version": "3.9.7"
  }
 },
 "nbformat": 4,
 "nbformat_minor": 5
}
