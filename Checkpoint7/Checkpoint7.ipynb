{
 "cells": [
  {
   "cell_type": "code",
   "execution_count": 106,
   "id": "2b1156fc",
   "metadata": {},
   "outputs": [],
   "source": [
    "# Objectif\n",
    "# Arbre de décision et forêt aléatoire \n",
    "\n",
    "# Nous allons prédire une fois de plus si un passager du Titanic va survivre ou non en utilisant  \n",
    "# cette fois des arbres de décision  et  des forêts aléatoires  : \n",
    "\n",
    "# 1. Lisez votre ensemble de données Titanic comme d'habitude : un ensemble d'entraînement\n",
    "# et un ensemble de test Appliquer l'arbre de décision. \n",
    "\n",
    "# 2. Tracez votre arbre de décision et essayez de lire les branches de l'arbre et de conclure une prédiction manuellement.\n",
    "\n",
    "# 3. Modifier les paramètres de l'arbre de décision (modifier au moins deux paramètres), \n",
    "\n",
    "# 4. Calculez la nouvelle précision et comparez-la avec les résultats précédents. \n",
    "\n",
    "# 5. Utilisez une forêt aléatoire puis modifiez le nombre d'estimateurs\n",
    "\n",
    "# 6. Calculez la nouvelle précision et comparez-la avec le résultat précédent."
   ]
  },
  {
   "cell_type": "code",
   "execution_count": 107,
   "id": "8bc461b1",
   "metadata": {},
   "outputs": [],
   "source": [
    "# 1. Lisez votre ensemble de données Titanic comme d'habitude : un ensemble d'entraînement\n",
    "# et un ensemble de test Appliquer l'arbre de décision. \n",
    "\n",
    "# 2. Tracez votre arbre de décision et essayez de lire les branches de l'arbre et de conclure une prédiction manuellement."
   ]
  },
  {
   "cell_type": "code",
   "execution_count": 108,
   "id": "92f5a947",
   "metadata": {},
   "outputs": [
    {
     "data": {
      "text/html": [
       "<div>\n",
       "<style scoped>\n",
       "    .dataframe tbody tr th:only-of-type {\n",
       "        vertical-align: middle;\n",
       "    }\n",
       "\n",
       "    .dataframe tbody tr th {\n",
       "        vertical-align: top;\n",
       "    }\n",
       "\n",
       "    .dataframe thead th {\n",
       "        text-align: right;\n",
       "    }\n",
       "</style>\n",
       "<table border=\"1\" class=\"dataframe\">\n",
       "  <thead>\n",
       "    <tr style=\"text-align: right;\">\n",
       "      <th></th>\n",
       "      <th>PassengerId</th>\n",
       "      <th>Survived</th>\n",
       "      <th>Pclass</th>\n",
       "      <th>Name</th>\n",
       "      <th>Sex</th>\n",
       "      <th>Age</th>\n",
       "      <th>SibSp</th>\n",
       "      <th>Parch</th>\n",
       "      <th>Ticket</th>\n",
       "      <th>Fare</th>\n",
       "      <th>Cabin</th>\n",
       "      <th>Embarked</th>\n",
       "    </tr>\n",
       "  </thead>\n",
       "  <tbody>\n",
       "    <tr>\n",
       "      <th>0</th>\n",
       "      <td>343</td>\n",
       "      <td>0</td>\n",
       "      <td>2</td>\n",
       "      <td>Collander, Mr. Erik Gustaf</td>\n",
       "      <td>1</td>\n",
       "      <td>28.000000</td>\n",
       "      <td>0</td>\n",
       "      <td>0</td>\n",
       "      <td>248740</td>\n",
       "      <td>13.0000</td>\n",
       "      <td>G6</td>\n",
       "      <td>S</td>\n",
       "    </tr>\n",
       "    <tr>\n",
       "      <th>1</th>\n",
       "      <td>76</td>\n",
       "      <td>0</td>\n",
       "      <td>3</td>\n",
       "      <td>Moen, Mr. Sigurd Hansen</td>\n",
       "      <td>1</td>\n",
       "      <td>25.000000</td>\n",
       "      <td>0</td>\n",
       "      <td>0</td>\n",
       "      <td>348123</td>\n",
       "      <td>7.6500</td>\n",
       "      <td>F G73</td>\n",
       "      <td>S</td>\n",
       "    </tr>\n",
       "    <tr>\n",
       "      <th>2</th>\n",
       "      <td>641</td>\n",
       "      <td>0</td>\n",
       "      <td>3</td>\n",
       "      <td>Jensen, Mr. Hans Peder</td>\n",
       "      <td>1</td>\n",
       "      <td>20.000000</td>\n",
       "      <td>0</td>\n",
       "      <td>0</td>\n",
       "      <td>350050</td>\n",
       "      <td>7.8542</td>\n",
       "      <td>G6</td>\n",
       "      <td>S</td>\n",
       "    </tr>\n",
       "    <tr>\n",
       "      <th>3</th>\n",
       "      <td>568</td>\n",
       "      <td>0</td>\n",
       "      <td>3</td>\n",
       "      <td>Palsson, Mrs. Nils (Alma Cornelia Berglund)</td>\n",
       "      <td>0</td>\n",
       "      <td>29.000000</td>\n",
       "      <td>0</td>\n",
       "      <td>4</td>\n",
       "      <td>349909</td>\n",
       "      <td>21.0750</td>\n",
       "      <td>G6</td>\n",
       "      <td>S</td>\n",
       "    </tr>\n",
       "    <tr>\n",
       "      <th>4</th>\n",
       "      <td>672</td>\n",
       "      <td>0</td>\n",
       "      <td>1</td>\n",
       "      <td>Davidson, Mr. Thornton</td>\n",
       "      <td>1</td>\n",
       "      <td>31.000000</td>\n",
       "      <td>1</td>\n",
       "      <td>0</td>\n",
       "      <td>F.C. 12750</td>\n",
       "      <td>52.0000</td>\n",
       "      <td>B71</td>\n",
       "      <td>S</td>\n",
       "    </tr>\n",
       "    <tr>\n",
       "      <th>...</th>\n",
       "      <td>...</td>\n",
       "      <td>...</td>\n",
       "      <td>...</td>\n",
       "      <td>...</td>\n",
       "      <td>...</td>\n",
       "      <td>...</td>\n",
       "      <td>...</td>\n",
       "      <td>...</td>\n",
       "      <td>...</td>\n",
       "      <td>...</td>\n",
       "      <td>...</td>\n",
       "      <td>...</td>\n",
       "    </tr>\n",
       "    <tr>\n",
       "      <th>886</th>\n",
       "      <td>10</td>\n",
       "      <td>1</td>\n",
       "      <td>2</td>\n",
       "      <td>Nasser, Mrs. Nicholas (Adele Achem)</td>\n",
       "      <td>0</td>\n",
       "      <td>14.000000</td>\n",
       "      <td>1</td>\n",
       "      <td>0</td>\n",
       "      <td>237736</td>\n",
       "      <td>30.0708</td>\n",
       "      <td>G6</td>\n",
       "      <td>C</td>\n",
       "    </tr>\n",
       "    <tr>\n",
       "      <th>887</th>\n",
       "      <td>61</td>\n",
       "      <td>0</td>\n",
       "      <td>3</td>\n",
       "      <td>Sirayanian, Mr. Orsen</td>\n",
       "      <td>1</td>\n",
       "      <td>22.000000</td>\n",
       "      <td>0</td>\n",
       "      <td>0</td>\n",
       "      <td>2669</td>\n",
       "      <td>7.2292</td>\n",
       "      <td>G6</td>\n",
       "      <td>C</td>\n",
       "    </tr>\n",
       "    <tr>\n",
       "      <th>888</th>\n",
       "      <td>535</td>\n",
       "      <td>0</td>\n",
       "      <td>3</td>\n",
       "      <td>Cacic, Miss. Marija</td>\n",
       "      <td>0</td>\n",
       "      <td>30.000000</td>\n",
       "      <td>0</td>\n",
       "      <td>0</td>\n",
       "      <td>315084</td>\n",
       "      <td>8.6625</td>\n",
       "      <td>G6</td>\n",
       "      <td>S</td>\n",
       "    </tr>\n",
       "    <tr>\n",
       "      <th>889</th>\n",
       "      <td>102</td>\n",
       "      <td>0</td>\n",
       "      <td>3</td>\n",
       "      <td>Petroff, Mr. Pastcho (\"Pentcho\")</td>\n",
       "      <td>1</td>\n",
       "      <td>29.699118</td>\n",
       "      <td>0</td>\n",
       "      <td>0</td>\n",
       "      <td>349215</td>\n",
       "      <td>7.8958</td>\n",
       "      <td>G6</td>\n",
       "      <td>S</td>\n",
       "    </tr>\n",
       "    <tr>\n",
       "      <th>890</th>\n",
       "      <td>428</td>\n",
       "      <td>1</td>\n",
       "      <td>2</td>\n",
       "      <td>Phillips, Miss. Kate Florence (\"Mrs Kate Louis...</td>\n",
       "      <td>0</td>\n",
       "      <td>19.000000</td>\n",
       "      <td>0</td>\n",
       "      <td>0</td>\n",
       "      <td>250655</td>\n",
       "      <td>26.0000</td>\n",
       "      <td>G6</td>\n",
       "      <td>S</td>\n",
       "    </tr>\n",
       "  </tbody>\n",
       "</table>\n",
       "<p>891 rows × 12 columns</p>\n",
       "</div>"
      ],
      "text/plain": [
       "     PassengerId  Survived  Pclass  \\\n",
       "0            343         0       2   \n",
       "1             76         0       3   \n",
       "2            641         0       3   \n",
       "3            568         0       3   \n",
       "4            672         0       1   \n",
       "..           ...       ...     ...   \n",
       "886           10         1       2   \n",
       "887           61         0       3   \n",
       "888          535         0       3   \n",
       "889          102         0       3   \n",
       "890          428         1       2   \n",
       "\n",
       "                                                  Name  Sex        Age  SibSp  \\\n",
       "0                           Collander, Mr. Erik Gustaf    1  28.000000      0   \n",
       "1                              Moen, Mr. Sigurd Hansen    1  25.000000      0   \n",
       "2                               Jensen, Mr. Hans Peder    1  20.000000      0   \n",
       "3          Palsson, Mrs. Nils (Alma Cornelia Berglund)    0  29.000000      0   \n",
       "4                               Davidson, Mr. Thornton    1  31.000000      1   \n",
       "..                                                 ...  ...        ...    ...   \n",
       "886                Nasser, Mrs. Nicholas (Adele Achem)    0  14.000000      1   \n",
       "887                              Sirayanian, Mr. Orsen    1  22.000000      0   \n",
       "888                                Cacic, Miss. Marija    0  30.000000      0   \n",
       "889                   Petroff, Mr. Pastcho (\"Pentcho\")    1  29.699118      0   \n",
       "890  Phillips, Miss. Kate Florence (\"Mrs Kate Louis...    0  19.000000      0   \n",
       "\n",
       "     Parch      Ticket     Fare  Cabin Embarked  \n",
       "0        0      248740  13.0000     G6        S  \n",
       "1        0      348123   7.6500  F G73        S  \n",
       "2        0      350050   7.8542     G6        S  \n",
       "3        4      349909  21.0750     G6        S  \n",
       "4        0  F.C. 12750  52.0000    B71        S  \n",
       "..     ...         ...      ...    ...      ...  \n",
       "886      0      237736  30.0708     G6        C  \n",
       "887      0        2669   7.2292     G6        C  \n",
       "888      0      315084   8.6625     G6        S  \n",
       "889      0      349215   7.8958     G6        S  \n",
       "890      0      250655  26.0000     G6        S  \n",
       "\n",
       "[891 rows x 12 columns]"
      ]
     },
     "execution_count": 108,
     "metadata": {},
     "output_type": "execute_result"
    }
   ],
   "source": [
    "#Importing our dataset from csv file\n",
    "import pandas as pd \n",
    "dataset=pd.read_csv(\"titanic-passengers.csv\", sep=\";\")\n",
    "\n",
    "#Preprocessing our data\n",
    "def preprocess_data(new_data):\n",
    "    new_data['Age'].fillna(new_data['Age'].mean(),inplace=True)\n",
    "    new_data.replace({'Sex':{'male': 1,'female':0}},inplace=True)\n",
    "    new_data['Cabin']=new_data.Cabin.fillna('G6')\n",
    "    new_data.replace({'Survived':{'Yes': 1,'No':0}},inplace=True)\n",
    "    return new_data\n",
    "data=preprocess_data(dataset)\n",
    "data"
   ]
  },
  {
   "cell_type": "code",
   "execution_count": 109,
   "id": "1a2c81be",
   "metadata": {},
   "outputs": [],
   "source": [
    "X=data.drop([\"Survived\", \"Name\", \"Cabin\", \"Ticket\", \"Embarked\"], axis=1)\n",
    "y= data[\"Survived\"]\n",
    "# split dataset to train and test sample\n",
    "X_train, X_test, y_train, y_test=train_test_split(X,y, test_size=0.2, random_state=42)"
   ]
  },
  {
   "cell_type": "code",
   "execution_count": 110,
   "id": "46acced3",
   "metadata": {},
   "outputs": [],
   "source": [
    "# BUILDING AND EVALUATING DECISION TREES\n",
    "\n",
    "\n",
    "#function which makes prediction on given model and return auc score\n",
    "def prediction_auc(X, y_true):\n",
    "    y_pred=decisiontree.predict(X)\n",
    "    false_positive_rate, true_positive_rate, thresholds = roc_curve(y_true, y_pred)\n",
    "    result = auc(false_positive_rate, true_positive_rate)\n",
    "    return result\n",
    "\n",
    "#plotting results for train and test data depending on teste variable\n",
    "def plotting(x, x_name, list_auc_train, list_auc_test):\n",
    "    plt.plot(x, list_auc_train, label='train')    \n",
    "    plt.plot(x, list_auc_test, label='test')\n",
    "    plt.legend()\n",
    "    plt.xlabel(x_name)\n",
    "    plt.ylabel('AUC score')\n",
    "    plt.show()"
   ]
  },
  {
   "cell_type": "code",
   "execution_count": 111,
   "id": "73fc5ea3",
   "metadata": {},
   "outputs": [
    {
     "data": {
      "image/png": "[encoded data removed]",
      "text/plain": [
       "<Figure size 432x288 with 1 Axes>"
      ]
     },
     "metadata": {
      "needs_background": "light"
     },
     "output_type": "display_data"
    }
   ],
   "source": [
    "max_depths=range(1,31) #creating list of values to check\n",
    "\n",
    "list_auc_train=[] #list to store results for train dataset \n",
    "list_auc_test=[] #list to store results for test dataset\n",
    "\n",
    "#creating model and check result for each value of max depth\n",
    "for max_depth in max_depths:\n",
    "    decisiontree=DecisionTreeClassifier(max_depth=max_depth)\n",
    "    decisiontree.fit(X_train,y_train)\n",
    "    \n",
    "    auc_train=prediction_auc(X_train,y_train)\n",
    "    list_auc_train.append(auc_train)\n",
    "    \n",
    "    auc_test=prediction_auc(X_test,y_test)\n",
    "    list_auc_test.append(auc_test)\n",
    "\n",
    "#plotting results    \n",
    "plotting(max_depths, 'max depth', list_auc_train, list_auc_test)"
   ]
  },
  {
   "cell_type": "code",
   "execution_count": 112,
   "id": "f9b8a2de",
   "metadata": {},
   "outputs": [
    {
     "name": "stdout",
     "output_type": "stream",
     "text": [
      "AUC score:  0.8001349527665318\n"
     ]
    }
   ],
   "source": [
    "#buliding tree with max depth=4\n",
    "decisiontree_depth_4=DecisionTreeClassifier(max_depth=4)\n",
    "decisiontree_depth_4.fit(X_train,y_train)\n",
    "y_pred=decisiontree_depth_4.predict(X_test)\n",
    "false_positive_rate, true_positive_rate, thresholds = roc_curve(y_test, y_pred)\n",
    "result = auc(false_positive_rate, true_positive_rate)\n",
    "print('AUC score: ', result)"
   ]
  },
  {
   "cell_type": "code",
   "execution_count": 113,
   "id": "e5e64f6d",
   "metadata": {},
   "outputs": [],
   "source": [
    "# 3. Modifier les paramètres de l'arbre de décision (modifier au moins deux paramètres), "
   ]
  },
  {
   "cell_type": "code",
   "execution_count": 114,
   "id": "d578c4ef",
   "metadata": {},
   "outputs": [
    {
     "data": {
      "image/png": "[encoded data removed]",
      "text/plain": [
       "<Figure size 432x288 with 1 Axes>"
      ]
     },
     "metadata": {
      "needs_background": "light"
     },
     "output_type": "display_data"
    }
   ],
   "source": [
    "max_depths=range(1,100) #creating list of values to check\n",
    "\n",
    "list_auc_train=[] #list to store results for train dataset \n",
    "list_auc_test=[] #list to store results for test dataset\n",
    "\n",
    "#creating model and check result for each value of max depth\n",
    "for max_depth in max_depths:\n",
    "    decisiontree=DecisionTreeClassifier(max_depth=max_depth)\n",
    "    decisiontree.fit(X_train,y_train)\n",
    "    \n",
    "    auc_train=prediction_auc(X_train,y_train)\n",
    "    list_auc_train.append(auc_train)\n",
    "    \n",
    "    auc_test=prediction_auc(X_test,y_test)\n",
    "    list_auc_test.append(auc_test)\n",
    "\n",
    "#plotting results    \n",
    "plotting(max_depths, 'max depth', list_auc_train, list_auc_test)"
   ]
  },
  {
   "cell_type": "code",
   "execution_count": 115,
   "id": "a2096377",
   "metadata": {},
   "outputs": [
    {
     "name": "stdout",
     "output_type": "stream",
     "text": [
      "AUC score:  0.8001349527665318\n"
     ]
    }
   ],
   "source": [
    "#buliding tree with max depth=4\n",
    "decisiontree_depth_4=DecisionTreeClassifier(max_depth=4)\n",
    "decisiontree_depth_4.fit(X_train,y_train)\n",
    "y_pred=decisiontree_depth_4.predict(X_test)\n",
    "false_positive_rate, true_positive_rate, thresholds = roc_curve(y_test, y_pred)\n",
    "result = auc(false_positive_rate, true_positive_rate)\n",
    "print('AUC score: ', result)"
   ]
  },
  {
   "cell_type": "code",
   "execution_count": 116,
   "id": "aaac83b2",
   "metadata": {},
   "outputs": [],
   "source": [
    "# 4. Calculez la nouvelle précision et comparez-la avec les résultats précédents. \n",
    "# AUC score precedent == 0.7924426450742241 < AUC score modifie ===  0.8001349527665318"
   ]
  },
  {
   "cell_type": "code",
   "execution_count": 117,
   "id": "1a29374a",
   "metadata": {},
   "outputs": [],
   "source": [
    "# 5. Utilisez une forêt aléatoire puis modifiez le nombre d'estimateurs"
   ]
  },
  {
   "cell_type": "code",
   "execution_count": 118,
   "id": "6a829ba1",
   "metadata": {},
   "outputs": [],
   "source": [
    "from sklearn import datasets\n",
    "import pandas as pd\n",
    "from sklearn.model_selection import train_test_split\n",
    "from sklearn.ensemble import RandomForestClassifier #Importing Random Forest Classifier\n",
    "from sklearn import metrics  # Importing metrics to test accuracy\n",
    "\n",
    "iris = datasets.load_iris()\n",
    "\n",
    "data=pd.DataFrame({\n",
    "'sepal length': iris.data[:,0],\n",
    "'sepal width': iris.data[:,1],\n",
    "'petal length': iris.data[:,2],\n",
    "'petal width': iris.data[:,3], \n",
    "'species': iris.target\n",
    "})\n",
    "\n",
    "X=data[['sepal length', 'sepal width', 'petal length', 'petal width']] #features\n",
    "y=data['species']  #target\n",
    "x_train, x_test, y_train, y_test= train_test_split(X, y, test_size=0.3) #splitting data with test size of 30%"
   ]
  },
  {
   "cell_type": "code",
   "execution_count": 119,
   "id": "83909b42",
   "metadata": {},
   "outputs": [
    {
     "name": "stdout",
     "output_type": "stream",
     "text": [
      "Accuracy: 0.8888888888888888\n"
     ]
    }
   ],
   "source": [
    "# Prédiction de forêt aléatoire\n",
    "clf=RandomForestClassifier(n_estimators=10)  #Creating a random forest with 100 decision trees\n",
    "clf.fit(x_train, y_train)  #Training our model\n",
    "y_pred=clf.predict(x_test)  #testing our model\n",
    "print(\"Accuracy:\", metrics.accuracy_score(y_test, y_pred))  #Measuring the accuracy of our model"
   ]
  },
  {
   "cell_type": "code",
   "execution_count": 120,
   "id": "17818d9e",
   "metadata": {},
   "outputs": [],
   "source": [
    "# 6. Calculez la nouvelle précision et comparez-la avec le résultat précédent."
   ]
  },
  {
   "cell_type": "code",
   "execution_count": 121,
   "id": "d6682db2",
   "metadata": {},
   "outputs": [
    {
     "name": "stdout",
     "output_type": "stream",
     "text": [
      "Accuracy: 0.9333333333333333\n"
     ]
    }
   ],
   "source": [
    "# Prédiction de forêt aléatoire\n",
    "clf=RandomForestClassifier(n_estimators=100)  #Creating a random forest with 100 decision trees\n",
    "clf.fit(x_train, y_train)  #Training our model\n",
    "y_pred=clf.predict(x_test)  #testing our model\n",
    "print(\"Accuracy:\", metrics.accuracy_score(y_test, y_pred))  #Measuring the accuracy of our model"
   ]
  },
  {
   "cell_type": "code",
   "execution_count": null,
   "id": "f69bbc8c",
   "metadata": {},
   "outputs": [],
   "source": [
    "# Accuracy: 0.8888888888888888 < Accuracy: 0.9333333333333333"
   ]
  }
 ],
 "metadata": {
  "kernelspec": {
   "display_name": "Python 3 (ipykernel)",
   "language": "python",
   "name": "python3"
  },
  "language_info": {
   "codemirror_mode": {
    "name": "ipython",
    "version": 3
   },
   "file_extension": ".py",
   "mimetype": "text/x-python",
   "name": "python",
   "nbconvert_exporter": "python",
   "pygments_lexer": "ipython3",
   "version": "3.9.7"
  }
 },
 "nbformat": 4,
 "nbformat_minor": 5
}
