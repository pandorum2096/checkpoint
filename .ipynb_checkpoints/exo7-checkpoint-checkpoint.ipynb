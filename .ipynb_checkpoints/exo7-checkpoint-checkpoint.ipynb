{
 "cells": [
  {
   "cell_type": "code",
   "execution_count": 4,
   "id": "82a93fa3",
   "metadata": {},
   "outputs": [
    {
     "name": "stdout",
     "output_type": "stream",
     "text": [
      "entrez le premier nombre: 100\n",
      "entrez le deuxieme nombre: 150\n",
      "entrez le troisieme nombre: 180\n",
      "18 , 22 , 24\n"
     ]
    }
   ],
   "source": [
    "# Question 7\n",
    "# Question : Écrivez un programme qui calcule et imprime la valeur \n",
    "# selon la formule donnée : Q = Racine carrée de [(2 * C * D)/H] \n",
    "# Voici les valeurs fixes de C et H : C est 50. H est 30. \n",
    "# D est la variable dont les valeurs doivent être entrées dans votre programme dans une séquence séparée par des virgules.\n",
    "#(cela signifie que D contient plus que la valeur)\n",
    "# Exemple Supposons que la séquence d'entrées séparées par des virgules suivante est donnée au programme : \n",
    "# 100,150,180 La sortie du programme doit être : 18,22,24 \n",
    "# Pour expliquer cela plus en détail, nous obtiendrons un résultat pour chaque valeur de D : \n",
    "# Q1= Racine carrée de [(2 * C * 100)/H] =18, Q2= Racine carrée de [(2 * C * 150)/H ] = 22 \n",
    "# et Q3 = Racine carrée de [(2 * C * 180)/H] = 24\n",
    "# Conseils : Si la sortie reçue est sous forme décimale, elle doit être arrondie à sa valeur la plus proche \n",
    "# (par exemple, si la sortie reçue est 26,0, elle doit être imprimée sous la forme 26) \n",
    "# En cas de données d'entrée fournies à la question, il doit être supposé être une entrée de console. \n",
    "\n",
    "import numpy as np\n",
    "\n",
    "def racine():\n",
    "    a = int(input(\"entrez le premier nombre: \"))\n",
    "    b = int(input(\"entrez le deuxieme nombre: \"))\n",
    "    c = int(input(\"entrez le troisieme nombre: \"))\n",
    "\n",
    "    Q1 = np.sqrt((2 * a * 50) / 30)\n",
    "    Q2 = np.sqrt((2 * b * 50) / 30)\n",
    "    Q3 = np.sqrt((2 * c * 50) / 30)\n",
    "\n",
    "    Q1 = int(Q1)\n",
    "    Q2 = int(Q2)\n",
    "    Q3 = int(Q3)\n",
    "\n",
    "    print(Q1, \",\", Q2, \",\", Q3)\n",
    "\n",
    "\n",
    "racine()"
   ]
  },
  {
   "cell_type": "code",
   "execution_count": null,
   "id": "659e00de",
   "metadata": {},
   "outputs": [],
   "source": []
  },
  {
   "cell_type": "code",
   "execution_count": null,
   "id": "9ba6424d",
   "metadata": {},
   "outputs": [],
   "source": []
  }
 ],
 "metadata": {
  "kernelspec": {
   "display_name": "Python 3 (ipykernel)",
   "language": "python",
   "name": "python3"
  },
  "language_info": {
   "codemirror_mode": {
    "name": "ipython",
    "version": 3
   },
   "file_extension": ".py",
   "mimetype": "text/x-python",
   "name": "python",
   "nbconvert_exporter": "python",
   "pygments_lexer": "ipython3",
   "version": "3.9.7"
  }
 },
 "nbformat": 4,
 "nbformat_minor": 5
}
