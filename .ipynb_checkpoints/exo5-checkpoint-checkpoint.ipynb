{
 "cells": [
  {
   "cell_type": "code",
   "execution_count": 1,
   "id": "df814c48",
   "metadata": {},
   "outputs": [
    {
     "name": "stdout",
     "output_type": "stream",
     "text": [
      "[[0 1]\n",
      " [2 3]\n",
      " [4 5]]\n",
      "[[0, 1], [2, 3], [4, 5]]\n"
     ]
    }
   ],
   "source": [
    "# Question 5 \n",
    "# Écrivez un programme NumPy pour convertir un tableau NumPy en une structure de liste Python.\n",
    "# Production attendue: \n",
    "# Éléments du tableau d'origine : [[0 1] [2 3] [4 5]] \n",
    "# Tableau à liste : [[0, 1], [2, 3], [4, 5]] \n",
    "\n",
    "import numpy as np\n",
    "\n",
    "\n",
    "def convertArrayToList():\n",
    "    # declaration\n",
    "    tableaux = np.array([[0, 1], [2, 3], [4, 5]])\n",
    "    # afficher tableaux\n",
    "    print(tableaux)\n",
    "    # conversion en list\n",
    "    print(tableaux.tolist())\n",
    "\n",
    "\n",
    "convertArrayToList()\n"
   ]
  },
  {
   "cell_type": "code",
   "execution_count": null,
   "id": "7aef23e1",
   "metadata": {},
   "outputs": [],
   "source": []
  }
 ],
 "metadata": {
  "kernelspec": {
   "display_name": "Python 3 (ipykernel)",
   "language": "python",
   "name": "python3"
  },
  "language_info": {
   "codemirror_mode": {
    "name": "ipython",
    "version": 3
   },
   "file_extension": ".py",
   "mimetype": "text/x-python",
   "name": "python",
   "nbconvert_exporter": "python",
   "pygments_lexer": "ipython3",
   "version": "3.9.7"
  }
 },
 "nbformat": 4,
 "nbformat_minor": 5
}
