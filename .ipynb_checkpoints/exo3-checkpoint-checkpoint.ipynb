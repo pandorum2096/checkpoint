{
 "cells": [
  {
   "cell_type": "code",
   "execution_count": 2,
   "id": "c1c5260a",
   "metadata": {},
   "outputs": [
    {
     "name": "stdout",
     "output_type": "stream",
     "text": [
      "Entrez un nombre : 8\n",
      "dictionnaire {1: 1, 2: 4, 3: 9, 4: 16, 5: 25, 6: 36, 7: 49, 8: 64}\n"
     ]
    }
   ],
   "source": [
    "# Question 3 \n",
    "# Avec un nombre entier n donné, écrivez un programme pour générer un dictionnaire qui contient (i, i*i) \n",
    "# tel qu'il soit un nombre entier compris entre 1 et n (tous deux inclus). puis le programme devrait imprimer le dictionnaire. \n",
    "# Supposons que l'entrée suivante soit fournie au programme : 8 Ensuite, \n",
    "# la sortie doit être : {1 : 1, 2 : 4, 3 : 9, 4 : 16, 5 : 25, 6 : 36, 7 : 49, 8 : 64 }\n",
    "\n",
    "def dict():\n",
    "    # declaration\n",
    "    nbr = int(input('Entrez un nombre : '))\n",
    "    dict = {}\n",
    "    for i in range(1, nbr + 1):\n",
    "        for j in range(1, nbr + 1):\n",
    "            j = i * i\n",
    "            dict[i] = j\n",
    "    # affichage du resultat\n",
    "    print(\"dictionnaire\", dict)\n",
    "\n",
    "\n",
    "dict()\n"
   ]
  },
  {
   "cell_type": "code",
   "execution_count": null,
   "id": "03f36ee6",
   "metadata": {},
   "outputs": [],
   "source": []
  }
 ],
 "metadata": {
  "kernelspec": {
   "display_name": "Python 3 (ipykernel)",
   "language": "python",
   "name": "python3"
  },
  "language_info": {
   "codemirror_mode": {
    "name": "ipython",
    "version": 3
   },
   "file_extension": ".py",
   "mimetype": "text/x-python",
   "name": "python",
   "nbconvert_exporter": "python",
   "pygments_lexer": "ipython3",
   "version": "3.9.7"
  }
 },
 "nbformat": 4,
 "nbformat_minor": 5
}
