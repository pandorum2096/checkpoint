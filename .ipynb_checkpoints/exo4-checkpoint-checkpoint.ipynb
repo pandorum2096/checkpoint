{
 "cells": [
  {
   "cell_type": "code",
   "execution_count": 1,
   "id": "da9caf89",
   "metadata": {},
   "outputs": [
    {
     "name": "stdout",
     "output_type": "stream",
     "text": [
      "=>la chaine:  ['t', 'o', 'u', 'r', 'e']\n",
      "=>longueur:  5\n",
      "=>La chaîne de caractère avec element supprime: ['o', 'u', 'r', 'e']\n",
      "=>resultat :  oure\n"
     ]
    }
   ],
   "source": [
    "# Question 4 \n",
    "# Étant donné une chaîne non vide et un int n, renvoie une nouvelle chaîne où le caractère à l'index n a été supprimé. \n",
    "#La valeur de n sera un index valide d'un caractère dans la chaîne d'origine \n",
    "#(c'est-à-dire que n sera compris entre 0..len(str)-1 inclus). \n",
    "# missing_char('kitten', 1) → 'ktten' par exemple ici on supprime \"i\" qui se trouve dans l'index 1\n",
    "# missing_char('kitten', 0) → 'itten' ici on supprime \"k\" qui est dans l'index 0\n",
    "# missing_char('kitten', 4) → 'kittn' ici on supprime \"e\" qui est dans l'index 4\n",
    "\n",
    "def missing_char(c, i):\n",
    "    if i >= len(c):\n",
    "        print(\"=>desole, l'index entre est superieur a la longueur du mot\")\n",
    "        # transformation en liste\n",
    "        liste = list(c)\n",
    "        # affichage de la liste\n",
    "        print(\"=>la chaine: \", liste)\n",
    "        # longueur\n",
    "        print(\"=>longueur: 0 a\", len(c)-1)\n",
    "    else:\n",
    "        # declaration\n",
    "        resultat = \"\"\n",
    "        # transformation en liste\n",
    "        liste = list(c)\n",
    "        # affichage de la liste\n",
    "        print(\"=>la chaine: \", liste)\n",
    "        # longueur\n",
    "        print(\"=>longueur: \",len(c))\n",
    "        # suppression de l'element de la liste\n",
    "        liste.pop(i)\n",
    "        # affichage de la liste avec element supprime\n",
    "        print(\"=>La chaîne de caractère avec element supprime: {}\".format(liste))\n",
    "        # boucle afin de transformer la liste en chaine afin de l'afficher de facon correcte\n",
    "        for j in range(len(liste)):\n",
    "            resultat = resultat + liste[j]\n",
    "\n",
    "        print(\"=>resultat : \",resultat)\n",
    "\n",
    "\n",
    "missing_char('toure', 0)\n"
   ]
  },
  {
   "cell_type": "code",
   "execution_count": null,
   "id": "43cb6083",
   "metadata": {},
   "outputs": [],
   "source": []
  }
 ],
 "metadata": {
  "kernelspec": {
   "display_name": "Python 3 (ipykernel)",
   "language": "python",
   "name": "python3"
  },
  "language_info": {
   "codemirror_mode": {
    "name": "ipython",
    "version": 3
   },
   "file_extension": ".py",
   "mimetype": "text/x-python",
   "name": "python",
   "nbconvert_exporter": "python",
   "pygments_lexer": "ipython3",
   "version": "3.9.7"
  }
 },
 "nbformat": 4,
 "nbformat_minor": 5
}
