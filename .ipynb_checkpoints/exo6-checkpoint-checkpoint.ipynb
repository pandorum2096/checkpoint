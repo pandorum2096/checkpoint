{
 "cells": [
  {
   "cell_type": "code",
   "execution_count": null,
   "id": "d359b727",
   "metadata": {},
   "outputs": [],
   "source": [
    "# Question 6\n",
    "# Écrivez un programme NumPy pour calculer la matrice de covariance de deux tableaux donnés. \n",
    "# Tableau d'origine1 : [0 1 2] \n",
    "# Tableau d'origine2 : [2 1 0] \n",
    "# Matrice de covariance desdits tableaux : [[ 1. -1.] [-1. 1.]]\n",
    "\n",
    "import numpy as np\n",
    "\n",
    "\n",
    "def convariance():\n",
    "    # declaration\n",
    "    tableaux = np.array([0, 1, 2])\n",
    "    tableaux2 = np.array([2, 1, 0])\n",
    "    # affichage\n",
    "    print(\"tableaux 1:\", tableaux)\n",
    "    print(\"tableaux 2:\", tableaux2)\n",
    "    # affichage de la covariance\n",
    "    print(\"la matrice de covariance des deux tableaux donnés: \\n\", np.cov(tableaux, tableaux2))\n",
    "\n",
    "\n",
    "convariance()\n"
   ]
  }
 ],
 "metadata": {
  "kernelspec": {
   "display_name": "Python 3 (ipykernel)",
   "language": "python",
   "name": "python3"
  },
  "language_info": {
   "codemirror_mode": {
    "name": "ipython",
    "version": 3
   },
   "file_extension": ".py",
   "mimetype": "text/x-python",
   "name": "python",
   "nbconvert_exporter": "python",
   "pygments_lexer": "ipython3",
   "version": "3.9.7"
  }
 },
 "nbformat": 4,
 "nbformat_minor": 5
}
