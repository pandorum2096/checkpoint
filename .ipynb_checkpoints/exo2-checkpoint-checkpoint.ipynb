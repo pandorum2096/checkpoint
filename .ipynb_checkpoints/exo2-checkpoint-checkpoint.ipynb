{
 "cells": [
  {
   "cell_type": "code",
   "execution_count": 1,
   "id": "60036094",
   "metadata": {},
   "outputs": [
    {
     "name": "stdout",
     "output_type": "stream",
     "text": [
      "Entrez un nombre : 5\n",
      "5 ! =  120\n"
     ]
    }
   ],
   "source": [
    "# Question 2 \n",
    "#  Écrire un programme capable de calculer la factorielle d'un nombre donné. \n",
    "# (la factorielle de n est le produit de tous les entiers positifs inférieurs ou égaux à n). \n",
    "# par exemple factoriel(5)= 5 x 4 x 3 x 2 x 1 le résultat est 120. \n",
    "# (c'est-à-dire factoriel (0)=1)\n",
    "\n",
    "import math\n",
    "\n",
    "\n",
    "def exo2():\n",
    "    # declaration\n",
    "    nbr = int(input('Entrez un nombre : '))\n",
    "    var = math.factorial(nbr)\n",
    "    print(var)\n",
    "\n",
    "\n",
    "def exo2_method():\n",
    "    # declaration\n",
    "    nbr = int(input('Entrez un nombre : '))\n",
    "    facto = 1\n",
    "    for i in range(1, nbr + 1):\n",
    "        facto = facto * i\n",
    "    print(nbr, '! = ', facto)\n",
    "\n",
    "\n",
    "#exo2()\n",
    "exo2_method()\n"
   ]
  },
  {
   "cell_type": "code",
   "execution_count": null,
   "id": "108a3270",
   "metadata": {},
   "outputs": [],
   "source": []
  }
 ],
 "metadata": {
  "kernelspec": {
   "display_name": "Python 3 (ipykernel)",
   "language": "python",
   "name": "python3"
  },
  "language_info": {
   "codemirror_mode": {
    "name": "ipython",
    "version": 3
   },
   "file_extension": ".py",
   "mimetype": "text/x-python",
   "name": "python",
   "nbconvert_exporter": "python",
   "pygments_lexer": "ipython3",
   "version": "3.9.7"
  }
 },
 "nbformat": 4,
 "nbformat_minor": 5
}
